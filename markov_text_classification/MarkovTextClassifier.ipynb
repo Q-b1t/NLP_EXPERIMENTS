{
  "nbformat": 4,
  "nbformat_minor": 0,
  "metadata": {
    "colab": {
      "provenance": []
    },
    "kernelspec": {
      "name": "python3",
      "display_name": "Python 3"
    },
    "language_info": {
      "name": "python"
    }
  },
  "cells": [
    {
      "cell_type": "markdown",
      "source": [
        "# Markov Text Classifier\n",
        "Text classification using markov models. In this experiment, we classify betweem poems of different authors."
      ],
      "metadata": {
        "id": "-eGKB4KA2amT"
      }
    },
    {
      "cell_type": "markdown",
      "source": [
        "# Import Dependencies"
      ],
      "metadata": {
        "id": "308Q7rQB_JP5"
      }
    },
    {
      "cell_type": "code",
      "source": [
        "import numpy as np\n",
        "from sklearn.metrics import confusion_matrix, f1_score,ConfusionMatrixDisplay\n"
      ],
      "metadata": {
        "id": "ZGwZwG9y_LFd"
      },
      "execution_count": 1,
      "outputs": []
    },
    {
      "cell_type": "markdown",
      "source": [
        "# Download Dataset"
      ],
      "metadata": {
        "id": "TUgcQjTi2ja2"
      }
    },
    {
      "cell_type": "code",
      "execution_count": 2,
      "metadata": {
        "colab": {
          "base_uri": "https://localhost:8080/"
        },
        "id": "_zoN1J3f2GsX",
        "outputId": "a84a116a-483a-4492-f77d-b8d09f756eb8"
      },
      "outputs": [
        {
          "output_type": "stream",
          "name": "stdout",
          "text": [
            "rm: cannot remove 'data': No such file or directory\n",
            "Cloning into 'G.A.I_MISCELLANEUS_RESOURCES'...\n",
            "remote: Enumerating objects: 91, done.\u001b[K\n",
            "remote: Counting objects: 100% (91/91), done.\u001b[K\n",
            "remote: Compressing objects: 100% (77/77), done.\u001b[K\n",
            "remote: Total 91 (delta 14), reused 81 (delta 7), pack-reused 0\u001b[K\n",
            "Receiving objects: 100% (91/91), 21.00 MiB | 13.30 MiB/s, done.\n",
            "Resolving deltas: 100% (14/14), done.\n"
          ]
        }
      ],
      "source": [
        "!rm -r data\n",
        "!git clone https://github.com/Q-b1t/G.A.I_MISCELLANEUS_RESOURCES.git\n",
        "!mkdir data\n",
        "!cp G.A.I_MISCELLANEUS_RESOURCES/poems/* data"
      ]
    },
    {
      "cell_type": "markdown",
      "source": [
        "# Import classifier"
      ],
      "metadata": {
        "id": "xhHkD-qV2oVg"
      }
    },
    {
      "cell_type": "code",
      "source": [
        "!rm -r mp_classifier\n",
        "!git clone https://github.com/Q-b1t/MARKOV_MODELS.git\n",
        "!cp -r MARKOV_MODELS/mp_classifier ."
      ],
      "metadata": {
        "colab": {
          "base_uri": "https://localhost:8080/"
        },
        "id": "Cof_7cqv20fY",
        "outputId": "0e2ed052-8a29-4613-abb6-74cd91c326af"
      },
      "execution_count": 3,
      "outputs": [
        {
          "output_type": "stream",
          "name": "stdout",
          "text": [
            "rm: cannot remove 'mp_classifier': No such file or directory\n",
            "Cloning into 'MARKOV_MODELS'...\n",
            "remote: Enumerating objects: 14, done.\u001b[K\n",
            "remote: Counting objects: 100% (14/14), done.\u001b[K\n",
            "remote: Compressing objects: 100% (10/10), done.\u001b[K\n",
            "Receiving objects: 100% (14/14), done.\n",
            "remote: Total 14 (delta 4), reused 14 (delta 4), pack-reused 0\u001b[K\n",
            "Resolving deltas: 100% (4/4), done.\n"
          ]
        }
      ]
    },
    {
      "cell_type": "code",
      "source": [
        "from mp_classifier.MarkovClassifier import *\n",
        "from mp_classifier.TextClassificationDataset import *"
      ],
      "metadata": {
        "id": "z1Ey6YTc3VA5"
      },
      "execution_count": 4,
      "outputs": []
    },
    {
      "cell_type": "markdown",
      "source": [
        "# Instance Dataset"
      ],
      "metadata": {
        "id": "mMlCGNm0353h"
      }
    },
    {
      "cell_type": "code",
      "source": [
        "text_dataset = TextClassificationDataset(\n",
        "    data_path = 'data'\n",
        ")"
      ],
      "metadata": {
        "colab": {
          "base_uri": "https://localhost:8080/"
        },
        "id": "mO46Ws7y38Gj",
        "outputId": "017410eb-dce6-4f4e-c1b5-ffcbf56d2f4c"
      },
      "execution_count": 5,
      "outputs": [
        {
          "output_type": "stream",
          "name": "stdout",
          "text": [
            "[~] parsing edgar_allan_poe.txt\n"
          ]
        },
        {
          "output_type": "stream",
          "name": "stderr",
          "text": [
            "797it [00:00, 31365.39it/s]\n"
          ]
        },
        {
          "output_type": "stream",
          "name": "stdout",
          "text": [
            "[~] parsing robert_frost.txt\n"
          ]
        },
        {
          "output_type": "stream",
          "name": "stderr",
          "text": [
            "1581it [00:00, 53441.60it/s]\n"
          ]
        },
        {
          "output_type": "stream",
          "name": "stdout",
          "text": [
            "[~] creating vocabulary...\n"
          ]
        },
        {
          "output_type": "stream",
          "name": "stderr",
          "text": [
            "100%|██████████| 1723/1723 [00:00<00:00, 59418.59it/s]\n"
          ]
        },
        {
          "output_type": "stream",
          "name": "stdout",
          "text": [
            "[~] tokenizing training data...\n"
          ]
        },
        {
          "output_type": "stream",
          "name": "stderr",
          "text": [
            "100%|██████████| 1723/1723 [00:00<00:00, 90933.85it/s]\n"
          ]
        },
        {
          "output_type": "stream",
          "name": "stdout",
          "text": [
            "[~] tokenizing test data...\n"
          ]
        },
        {
          "output_type": "stream",
          "name": "stderr",
          "text": [
            "100%|██████████| 431/431 [00:00<00:00, 51529.13it/s]\n"
          ]
        }
      ]
    },
    {
      "cell_type": "code",
      "source": [
        "# retrive the processed dataset\n",
        "train_data,test_data = text_dataset.get_data()"
      ],
      "metadata": {
        "id": "TW-m3tV26LtL"
      },
      "execution_count": 6,
      "outputs": []
    },
    {
      "cell_type": "code",
      "source": [
        "for k,v in train_data.items():\n",
        "  print(k,len(v))"
      ],
      "metadata": {
        "colab": {
          "base_uri": "https://localhost:8080/"
        },
        "id": "yNu_Jsw46ae1",
        "outputId": "3bb5b399-a842-45a6-c8ad-f2a91c3f2f20"
      },
      "execution_count": 7,
      "outputs": [
        {
          "output_type": "stream",
          "name": "stdout",
          "text": [
            "samples 1723\n",
            "labels 1723\n",
            "tokenized 1723\n"
          ]
        }
      ]
    },
    {
      "cell_type": "code",
      "source": [
        "# test tokenizer\n",
        "index = 1000\n",
        "sample,label,tokenized = train_data[\"samples\"][index],train_data[\"labels\"][index],train_data[\"tokenized\"][index]\n",
        "sample,label,tokenized"
      ],
      "metadata": {
        "colab": {
          "base_uri": "https://localhost:8080/"
        },
        "id": "nKaLsbe56e_y",
        "outputId": "d57af729-5b90-4e21-d453-a1400a44109b"
      },
      "execution_count": 8,
      "outputs": [
        {
          "output_type": "execute_result",
          "data": {
            "text/plain": [
              "('and those will bear some keeping still about',\n",
              " 1,\n",
              " [27, 1397, 175, 64, 172, 1139, 323, 392])"
            ]
          },
          "metadata": {},
          "execution_count": 8
        }
      ]
    },
    {
      "cell_type": "code",
      "source": [
        "text_dataset.tokenize_sentence(sample)"
      ],
      "metadata": {
        "colab": {
          "base_uri": "https://localhost:8080/"
        },
        "id": "2cnmCSNK6nES",
        "outputId": "466931e6-307d-45bb-c685-c5c414864b14"
      },
      "execution_count": 9,
      "outputs": [
        {
          "output_type": "execute_result",
          "data": {
            "text/plain": [
              "[27, 1397, 175, 64, 172, 1139, 323, 392]"
            ]
          },
          "metadata": {},
          "execution_count": 9
        }
      ]
    },
    {
      "cell_type": "code",
      "source": [
        "text_dataset.detokenize_sentence(text_dataset.tokenize_sentence(sample))"
      ],
      "metadata": {
        "colab": {
          "base_uri": "https://localhost:8080/",
          "height": 35
        },
        "id": "VOisYwWQ6oXX",
        "outputId": "cddd1752-4fe6-48d8-a6d9-19e1c0d49251"
      },
      "execution_count": 10,
      "outputs": [
        {
          "output_type": "execute_result",
          "data": {
            "text/plain": [
              "'and those will bear some keeping still about'"
            ],
            "application/vnd.google.colaboratory.intrinsic+json": {
              "type": "string"
            }
          },
          "metadata": {},
          "execution_count": 10
        }
      ]
    },
    {
      "cell_type": "code",
      "source": [
        "vocabulary = text_dataset.get_vocabulary()\n",
        "vocabulary.keys()"
      ],
      "metadata": {
        "colab": {
          "base_uri": "https://localhost:8080/"
        },
        "id": "g0uypNv26wWC",
        "outputId": "4761d0dc-80b9-4d44-c41e-cbf989b71fb9"
      },
      "execution_count": 11,
      "outputs": [
        {
          "output_type": "execute_result",
          "data": {
            "text/plain": [
              "dict_keys(['vocab', 'reverse', 'label_2_class'])"
            ]
          },
          "metadata": {},
          "execution_count": 11
        }
      ]
    },
    {
      "cell_type": "code",
      "source": [
        "vocabulary[\"label_2_class\"]"
      ],
      "metadata": {
        "colab": {
          "base_uri": "https://localhost:8080/"
        },
        "id": "PeflCUvW61Qq",
        "outputId": "a502c8ae-070d-443e-b4c0-8ae2b8b06180"
      },
      "execution_count": 12,
      "outputs": [
        {
          "output_type": "execute_result",
          "data": {
            "text/plain": [
              "{0: 'edgar_allan_poe.txt', 1: 'robert_frost.txt'}"
            ]
          },
          "metadata": {},
          "execution_count": 12
        }
      ]
    },
    {
      "cell_type": "markdown",
      "source": [
        "# Instance and train a classifier"
      ],
      "metadata": {
        "id": "gNVmO5Pg69uo"
      }
    },
    {
      "cell_type": "code",
      "source": [
        "classifier = MarkovTextClassifier(\n",
        "    data = train_data,\n",
        "    vocabulary=vocabulary\n",
        ")\n",
        "\n",
        "classifier.fit()"
      ],
      "metadata": {
        "id": "r49wI7w_62_R"
      },
      "execution_count": 13,
      "outputs": []
    },
    {
      "cell_type": "code",
      "source": [
        "params = classifier.get_params()\n",
        "params"
      ],
      "metadata": {
        "colab": {
          "base_uri": "https://localhost:8080/"
        },
        "id": "qwWir3yE7HfK",
        "outputId": "f5fbf1fd-a39a-44d7-d854-5e0244e08969"
      },
      "execution_count": 14,
      "outputs": [
        {
          "output_type": "execute_result",
          "data": {
            "text/plain": [
              "{0: (array([[-7.8713112 , -7.8713112 , -7.8713112 , ..., -7.8713112 ,\n",
              "          -7.8713112 , -7.8713112 ],\n",
              "         [-7.87207398, -7.87207398, -6.77346169, ..., -7.87207398,\n",
              "          -7.87207398, -7.87207398],\n",
              "         [-7.96311206, -7.96311206, -7.96311206, ..., -7.96311206,\n",
              "          -7.96311206, -7.96311206],\n",
              "         ...,\n",
              "         [-7.8713112 , -7.8713112 , -7.8713112 , ..., -7.8713112 ,\n",
              "          -7.8713112 , -7.8713112 ],\n",
              "         [-7.8713112 , -7.8713112 , -7.8713112 , ..., -7.8713112 ,\n",
              "          -7.8713112 , -7.8713112 ],\n",
              "         [-7.8713112 , -7.8713112 , -7.8713112 , ..., -7.8713112 ,\n",
              "          -7.8713112 , -7.8713112 ]]),\n",
              "  array([-8.07028089, -6.9716686 , -4.51493283, ..., -8.07028089,\n",
              "         -8.07028089, -8.07028089])),\n",
              " 1: (array([[-7.8713112 , -7.8713112 , -7.8713112 , ..., -7.8713112 ,\n",
              "          -7.8713112 , -7.8713112 ],\n",
              "         [-7.87283618, -7.87283618, -7.87283618, ..., -7.87283618,\n",
              "          -7.87283618, -7.87283618],\n",
              "         [-8.01763716, -8.01763716, -8.01763716, ..., -8.01763716,\n",
              "          -8.01763716, -8.01763716],\n",
              "         ...,\n",
              "         [-7.87169266, -7.87169266, -7.87169266, ..., -7.87169266,\n",
              "          -7.87169266, -7.87169266],\n",
              "         [-7.87169266, -7.87169266, -7.87169266, ..., -7.87169266,\n",
              "          -7.87169266, -7.87169266],\n",
              "         [-7.8713112 , -7.8713112 , -7.8713112 , ..., -7.8713112 ,\n",
              "          -7.8713112 , -7.8713112 ]]),\n",
              "  array([-8.23403421, -6.84773985, -4.07515112, ..., -8.23403421,\n",
              "         -8.23403421, -8.23403421]))}"
            ]
          },
          "metadata": {},
          "execution_count": 14
        }
      ]
    },
    {
      "cell_type": "code",
      "source": [
        "priors = classifier.get_priors()\n",
        "priors"
      ],
      "metadata": {
        "colab": {
          "base_uri": "https://localhost:8080/"
        },
        "id": "pSXYz3NT7Kcg",
        "outputId": "4df85718-fb25-4e6b-adc5-17d822727377"
      },
      "execution_count": 15,
      "outputs": [
        {
          "output_type": "execute_result",
          "data": {
            "text/plain": [
              "{0: -1.09397997001983, 1: -0.4077893392532448}"
            ]
          },
          "metadata": {},
          "execution_count": 15
        }
      ]
    },
    {
      "cell_type": "code",
      "source": [
        "train_tokens, test_tokens = train_data['tokenized'],test_data['tokenized']\n",
        "y_train,y_test = train_data['labels'],test_data['labels']"
      ],
      "metadata": {
        "id": "FrJ89hnf-3hz"
      },
      "execution_count": 16,
      "outputs": []
    },
    {
      "cell_type": "code",
      "source": [
        "p_train = classifier.predict(train_tokens)\n",
        "p_test = classifier.predict(test_tokens)"
      ],
      "metadata": {
        "id": "gKjT0cM5-8QF"
      },
      "execution_count": 17,
      "outputs": []
    },
    {
      "cell_type": "code",
      "source": [
        "print(f\"[~] Train acc: {np.mean(p_train == y_train)}\")\n",
        "print(f\"[~] Test acc: {np.mean(p_test == y_test)}\")"
      ],
      "metadata": {
        "colab": {
          "base_uri": "https://localhost:8080/"
        },
        "id": "2JW_jWtk-9ZQ",
        "outputId": "1163d867-7bf0-4a3f-8837-d931b8bcfcd6"
      },
      "execution_count": 18,
      "outputs": [
        {
          "output_type": "stream",
          "name": "stdout",
          "text": [
            "[~] Train acc: 0.9970980847359258\n",
            "[~] Test acc: 0.839907192575406\n"
          ]
        }
      ]
    },
    {
      "cell_type": "code",
      "source": [
        "print(f\"[~] F1 Score Train: {f1_score(y_train, p_train)}\")\n",
        "print(f\"[~] F1 Score Test: {f1_score(y_test, p_test)}\")"
      ],
      "metadata": {
        "colab": {
          "base_uri": "https://localhost:8080/"
        },
        "id": "0JZSlqSq_zCb",
        "outputId": "6ab18101-60e7-4698-ef69-6ee3873656db"
      },
      "execution_count": 19,
      "outputs": [
        {
          "output_type": "stream",
          "name": "stdout",
          "text": [
            "[~] F1 Score Train: 0.9978232477144101\n",
            "[~] F1 Score Test: 0.8899521531100479\n"
          ]
        }
      ]
    },
    {
      "cell_type": "code",
      "source": [
        "cm_train,cm_test = confusion_matrix(y_train, p_train),confusion_matrix(y_test, p_test)\n",
        "cm_train,cm_test"
      ],
      "metadata": {
        "colab": {
          "base_uri": "https://localhost:8080/"
        },
        "id": "OTTVGsZw_Rxo",
        "outputId": "d886221a-492b-4d56-8ca6-e79e0a609695"
      },
      "execution_count": 20,
      "outputs": [
        {
          "output_type": "execute_result",
          "data": {
            "text/plain": [
              "(array([[ 572,    5],\n",
              "        [   0, 1146]]),\n",
              " array([[ 83,  58],\n",
              "        [ 11, 279]]))"
            ]
          },
          "metadata": {},
          "execution_count": 20
        }
      ]
    },
    {
      "cell_type": "code",
      "source": [
        "ConfusionMatrixDisplay.from_predictions(y_train, p_train)"
      ],
      "metadata": {
        "colab": {
          "base_uri": "https://localhost:8080/",
          "height": 467
        },
        "id": "A-NFA_Mj_c4Q",
        "outputId": "df7494fe-d6e6-4744-a140-18f77b9e4da6"
      },
      "execution_count": 21,
      "outputs": [
        {
          "output_type": "execute_result",
          "data": {
            "text/plain": [
              "<sklearn.metrics._plot.confusion_matrix.ConfusionMatrixDisplay at 0x78670c5848b0>"
            ]
          },
          "metadata": {},
          "execution_count": 21
        },
        {
          "output_type": "display_data",
          "data": {
            "text/plain": [
              "<Figure size 640x480 with 2 Axes>"
            ],
            "image/png": "[encoded data removed]"
          },
          "metadata": {}
        }
      ]
    },
    {
      "cell_type": "code",
      "source": [
        "ConfusionMatrixDisplay.from_predictions(y_test, p_test)"
      ],
      "metadata": {
        "colab": {
          "base_uri": "https://localhost:8080/",
          "height": 467
        },
        "id": "_6kFlIuk_fcV",
        "outputId": "12bdff58-c7cb-4255-928b-895f96aad481"
      },
      "execution_count": 22,
      "outputs": [
        {
          "output_type": "execute_result",
          "data": {
            "text/plain": [
              "<sklearn.metrics._plot.confusion_matrix.ConfusionMatrixDisplay at 0x78670c584160>"
            ]
          },
          "metadata": {},
          "execution_count": 22
        },
        {
          "output_type": "display_data",
          "data": {
            "text/plain": [
              "<Figure size 640x480 with 2 Axes>"
            ],
            "image/png": "[encoded data removed]"
          },
          "metadata": {}
        }
      ]
    }
  ]
}