{
  "nbformat": 4,
  "nbformat_minor": 0,
  "metadata": {
    "colab": {
      "provenance": []
    },
    "kernelspec": {
      "name": "python3",
      "display_name": "Python 3"
    },
    "language_info": {
      "name": "python"
    }
  },
  "cells": [
    {
      "cell_type": "markdown",
      "source": [
        "# Markov Based Text Generator"
      ],
      "metadata": {
        "id": "bfwBHhRMUv-Y"
      }
    },
    {
      "cell_type": "markdown",
      "source": [
        "# Import Sample Data"
      ],
      "metadata": {
        "id": "56RZQ3mpVBPu"
      }
    },
    {
      "cell_type": "code",
      "execution_count": 1,
      "metadata": {
        "colab": {
          "base_uri": "https://localhost:8080/"
        },
        "id": "fLxGYCalRyrF",
        "outputId": "cfd2489a-b5ef-42d4-ec96-97607c037415"
      },
      "outputs": [
        {
          "output_type": "stream",
          "name": "stdout",
          "text": [
            "fatal: destination path 'G.A.I_MISCELLANEUS_RESOURCES' already exists and is not an empty directory.\n"
          ]
        }
      ],
      "source": [
        "!rm -r data\n",
        "!git clone https://github.com/Q-b1t/G.A.I_MISCELLANEUS_RESOURCES.git\n",
        "!mkdir data\n",
        "!cp G.A.I_MISCELLANEUS_RESOURCES/poems/* data"
      ]
    },
    {
      "cell_type": "markdown",
      "source": [
        "# Import Model"
      ],
      "metadata": {
        "id": "2oPBLlsXdiNZ"
      }
    },
    {
      "cell_type": "code",
      "source": [
        "!rm -r MARKOV_MODELS model\n",
        "!git clone https://github.com/Q-b1t/MARKOV_MODELS.git\n",
        "!mkdir model && cp /content/MARKOV_MODELS/m_text_generator/MarkovTextGenerator.py model"
      ],
      "metadata": {
        "colab": {
          "base_uri": "https://localhost:8080/"
        },
        "id": "5VzrmWIFdlAY",
        "outputId": "ba7c826a-89a7-4560-ad14-73923f555bc6"
      },
      "execution_count": 2,
      "outputs": [
        {
          "output_type": "stream",
          "name": "stdout",
          "text": [
            "Cloning into 'MARKOV_MODELS'...\n",
            "remote: Enumerating objects: 18, done.\u001b[K\n",
            "remote: Counting objects: 100% (18/18), done.\u001b[K\n",
            "remote: Compressing objects: 100% (14/14), done.\u001b[K\n",
            "remote: Total 18 (delta 5), reused 17 (delta 4), pack-reused 0 (from 0)\u001b[K\n",
            "Receiving objects: 100% (18/18), 5.82 KiB | 5.82 MiB/s, done.\n",
            "Resolving deltas: 100% (5/5), done.\n"
          ]
        }
      ]
    },
    {
      "cell_type": "markdown",
      "source": [
        "# Import Model"
      ],
      "metadata": {
        "id": "kJ7ZIazSVEeU"
      }
    },
    {
      "cell_type": "code",
      "source": [
        "from model.MarkovTextGenerator import *"
      ],
      "metadata": {
        "id": "RIejNRAnU26y"
      },
      "execution_count": 3,
      "outputs": []
    },
    {
      "cell_type": "markdown",
      "source": [
        "# Test the class"
      ],
      "metadata": {
        "id": "iHecx-K-vPHk"
      }
    },
    {
      "cell_type": "code",
      "source": [
        "markov_text_generator = MarkovTextGenerator(\n",
        "    filename=\"/content/data/edgar_allan_poe.txt\"\n",
        ")\n",
        "markov_text_generator.fit()\n",
        "markov_text_generator.generate(N = 10)"
      ],
      "metadata": {
        "colab": {
          "base_uri": "https://localhost:8080/"
        },
        "id": "q680m3YJvQaC",
        "outputId": "cf50e3b0-a8db-4554-88fd-b16b420cc400"
      },
      "execution_count": 4,
      "outputs": [
        {
          "output_type": "stream",
          "name": "stderr",
          "text": [
            "100%|██████████| 797/797 [00:00<00:00, 38472.32it/s]"
          ]
        },
        {
          "output_type": "stream",
          "name": "stdout",
          "text": [
            "[~] the unembodied essence and no more\n",
            "[~] her pallor i strangely mistrust\n",
            "[~] in terror she spoke letting sink her\n",
            "[~] in daylight and in beauty by our god to those pure orbs your heart to learn\n",
            "[~] is a world of sweets and sours\n",
            "[~] in the sad silent watches of my night\n",
            "[~] and conquered her scruples and gloom\n",
            "[~] of all to whom thine absence is the night\n",
            "[~] well i know now this dank tarn of auber\n",
            "[~] beloved amid the earnest woes\n"
          ]
        },
        {
          "output_type": "stream",
          "name": "stderr",
          "text": [
            "\n"
          ]
        }
      ]
    },
    {
      "cell_type": "code",
      "source": [
        "markov_text_generator_2 = MarkovTextGenerator(\n",
        "    filename=\"/content/data/robert_frost.txt\"\n",
        ")\n",
        "markov_text_generator_2.fit()\n",
        "markov_text_generator_2.generate(N = 10)"
      ],
      "metadata": {
        "colab": {
          "base_uri": "https://localhost:8080/"
        },
        "id": "h7nS3YE1vt7E",
        "outputId": "e47fdbfd-ec20-4b04-965b-a5472aa3c9bd"
      },
      "execution_count": 5,
      "outputs": [
        {
          "output_type": "stream",
          "name": "stderr",
          "text": [
            "100%|██████████| 1581/1581 [00:00<00:00, 76678.94it/s]"
          ]
        },
        {
          "output_type": "stream",
          "name": "stdout",
          "text": [
            "[~] one mustnt bear too hard on the floor\n",
            "[~] estelles the one they say was up\n",
            "[~] two roads diverged in a smother\n",
            "[~] cant you and i dread the ominous stain of tar\n",
            "[~] the board we had laid down to day\n",
            "[~] we came out on a hill\n",
            "[~] and scurf of plants and weary and overheated\n",
            "[~] when shoeing home across the blue\n",
            "[~] i can find it\n",
            "[~] unless it be\n"
          ]
        },
        {
          "output_type": "stream",
          "name": "stderr",
          "text": [
            "\n"
          ]
        }
      ]
    }
  ]
}